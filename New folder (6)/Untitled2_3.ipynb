{
  "cells": [
    {
      "cell_type": "markdown",
      "metadata": {},
      "source": [
        "decision tree classification yöntemi kullandık"
      ]
    },
    {
      "cell_type": "code",
      "execution_count": 1,
      "metadata": {
        "trusted": true
      },
      "outputs": [],
      "source": [
        "\n",
        "import numpy as np\n",
        "import pandas as pd\n",
        "import matplotlib\n",
        "import matplotlib.pyplot as plt\n",
        "from sklearn import linear_model\n",
        "from sklearn.tree import DecisionTreeClassifier\n",
        "from sklearn.model_selection import train_test_split\n",
        "from sklearn.preprocessing import LabelEncoder\n",
        "from sklearn.metrics import classification_report, confusion_matrix"
      ]
    },
    {
      "cell_type": "markdown",
      "metadata": {},
      "source": [
        "Gerekli modüller"
      ]
    },
    {
      "cell_type": "code",
      "execution_count": 2,
      "metadata": {
        "trusted": true
      },
      "outputs": [
        {
          "data": {
            "text/html": [
              "<div>\n",
              "<style scoped>\n",
              "    .dataframe tbody tr th:only-of-type {\n",
              "        vertical-align: middle;\n",
              "    }\n",
              "\n",
              "    .dataframe tbody tr th {\n",
              "        vertical-align: top;\n",
              "    }\n",
              "\n",
              "    .dataframe thead th {\n",
              "        text-align: right;\n",
              "    }\n",
              "</style>\n",
              "<table border=\"1\" class=\"dataframe\">\n",
              "  <thead>\n",
              "    <tr style=\"text-align: right;\">\n",
              "      <th></th>\n",
              "      <th>Temperature</th>\n",
              "      <th>L</th>\n",
              "      <th>R</th>\n",
              "      <th>A_M</th>\n",
              "      <th>Color</th>\n",
              "      <th>Spectral_Class</th>\n",
              "      <th>Type</th>\n",
              "    </tr>\n",
              "  </thead>\n",
              "  <tbody>\n",
              "    <tr>\n",
              "      <th>0</th>\n",
              "      <td>3068</td>\n",
              "      <td>0.002400</td>\n",
              "      <td>0.1700</td>\n",
              "      <td>16.120</td>\n",
              "      <td>Red</td>\n",
              "      <td>M</td>\n",
              "      <td>0</td>\n",
              "    </tr>\n",
              "    <tr>\n",
              "      <th>1</th>\n",
              "      <td>3042</td>\n",
              "      <td>0.000500</td>\n",
              "      <td>0.1542</td>\n",
              "      <td>16.600</td>\n",
              "      <td>Red</td>\n",
              "      <td>M</td>\n",
              "      <td>0</td>\n",
              "    </tr>\n",
              "    <tr>\n",
              "      <th>2</th>\n",
              "      <td>2600</td>\n",
              "      <td>0.000300</td>\n",
              "      <td>0.1020</td>\n",
              "      <td>18.700</td>\n",
              "      <td>Red</td>\n",
              "      <td>M</td>\n",
              "      <td>0</td>\n",
              "    </tr>\n",
              "    <tr>\n",
              "      <th>3</th>\n",
              "      <td>2800</td>\n",
              "      <td>0.000200</td>\n",
              "      <td>0.1600</td>\n",
              "      <td>16.650</td>\n",
              "      <td>Red</td>\n",
              "      <td>M</td>\n",
              "      <td>0</td>\n",
              "    </tr>\n",
              "    <tr>\n",
              "      <th>4</th>\n",
              "      <td>1939</td>\n",
              "      <td>0.000138</td>\n",
              "      <td>0.1030</td>\n",
              "      <td>20.060</td>\n",
              "      <td>Red</td>\n",
              "      <td>M</td>\n",
              "      <td>0</td>\n",
              "    </tr>\n",
              "    <tr>\n",
              "      <th>5</th>\n",
              "      <td>2840</td>\n",
              "      <td>0.000650</td>\n",
              "      <td>0.1100</td>\n",
              "      <td>16.980</td>\n",
              "      <td>Red</td>\n",
              "      <td>M</td>\n",
              "      <td>0</td>\n",
              "    </tr>\n",
              "    <tr>\n",
              "      <th>6</th>\n",
              "      <td>2637</td>\n",
              "      <td>0.000730</td>\n",
              "      <td>0.1270</td>\n",
              "      <td>17.220</td>\n",
              "      <td>Red</td>\n",
              "      <td>M</td>\n",
              "      <td>0</td>\n",
              "    </tr>\n",
              "    <tr>\n",
              "      <th>7</th>\n",
              "      <td>2600</td>\n",
              "      <td>0.000400</td>\n",
              "      <td>0.0960</td>\n",
              "      <td>17.400</td>\n",
              "      <td>Red</td>\n",
              "      <td>M</td>\n",
              "      <td>0</td>\n",
              "    </tr>\n",
              "    <tr>\n",
              "      <th>8</th>\n",
              "      <td>2650</td>\n",
              "      <td>0.000690</td>\n",
              "      <td>0.1100</td>\n",
              "      <td>17.450</td>\n",
              "      <td>Red</td>\n",
              "      <td>M</td>\n",
              "      <td>0</td>\n",
              "    </tr>\n",
              "    <tr>\n",
              "      <th>9</th>\n",
              "      <td>2700</td>\n",
              "      <td>0.000180</td>\n",
              "      <td>0.1300</td>\n",
              "      <td>16.050</td>\n",
              "      <td>Red</td>\n",
              "      <td>M</td>\n",
              "      <td>0</td>\n",
              "    </tr>\n",
              "    <tr>\n",
              "      <th>10</th>\n",
              "      <td>3600</td>\n",
              "      <td>0.002900</td>\n",
              "      <td>0.5100</td>\n",
              "      <td>10.690</td>\n",
              "      <td>Red</td>\n",
              "      <td>M</td>\n",
              "      <td>1</td>\n",
              "    </tr>\n",
              "    <tr>\n",
              "      <th>11</th>\n",
              "      <td>3129</td>\n",
              "      <td>0.012200</td>\n",
              "      <td>0.3761</td>\n",
              "      <td>11.790</td>\n",
              "      <td>Red</td>\n",
              "      <td>M</td>\n",
              "      <td>1</td>\n",
              "    </tr>\n",
              "    <tr>\n",
              "      <th>12</th>\n",
              "      <td>3134</td>\n",
              "      <td>0.000400</td>\n",
              "      <td>0.1960</td>\n",
              "      <td>13.210</td>\n",
              "      <td>Red</td>\n",
              "      <td>M</td>\n",
              "      <td>1</td>\n",
              "    </tr>\n",
              "    <tr>\n",
              "      <th>13</th>\n",
              "      <td>3628</td>\n",
              "      <td>0.005500</td>\n",
              "      <td>0.3930</td>\n",
              "      <td>10.480</td>\n",
              "      <td>Red</td>\n",
              "      <td>M</td>\n",
              "      <td>1</td>\n",
              "    </tr>\n",
              "    <tr>\n",
              "      <th>14</th>\n",
              "      <td>2650</td>\n",
              "      <td>0.000600</td>\n",
              "      <td>0.1400</td>\n",
              "      <td>11.782</td>\n",
              "      <td>Red</td>\n",
              "      <td>M</td>\n",
              "      <td>1</td>\n",
              "    </tr>\n",
              "    <tr>\n",
              "      <th>15</th>\n",
              "      <td>3340</td>\n",
              "      <td>0.003800</td>\n",
              "      <td>0.2400</td>\n",
              "      <td>13.070</td>\n",
              "      <td>Red</td>\n",
              "      <td>M</td>\n",
              "      <td>1</td>\n",
              "    </tr>\n",
              "    <tr>\n",
              "      <th>16</th>\n",
              "      <td>2799</td>\n",
              "      <td>0.001800</td>\n",
              "      <td>0.1600</td>\n",
              "      <td>14.790</td>\n",
              "      <td>Red</td>\n",
              "      <td>M</td>\n",
              "      <td>1</td>\n",
              "    </tr>\n",
              "    <tr>\n",
              "      <th>17</th>\n",
              "      <td>3692</td>\n",
              "      <td>0.003670</td>\n",
              "      <td>0.4700</td>\n",
              "      <td>10.800</td>\n",
              "      <td>Red</td>\n",
              "      <td>M</td>\n",
              "      <td>1</td>\n",
              "    </tr>\n",
              "    <tr>\n",
              "      <th>18</th>\n",
              "      <td>3192</td>\n",
              "      <td>0.003620</td>\n",
              "      <td>0.1967</td>\n",
              "      <td>13.530</td>\n",
              "      <td>Red</td>\n",
              "      <td>M</td>\n",
              "      <td>1</td>\n",
              "    </tr>\n",
              "    <tr>\n",
              "      <th>19</th>\n",
              "      <td>3441</td>\n",
              "      <td>0.039000</td>\n",
              "      <td>0.3510</td>\n",
              "      <td>11.180</td>\n",
              "      <td>Red</td>\n",
              "      <td>M</td>\n",
              "      <td>1</td>\n",
              "    </tr>\n",
              "  </tbody>\n",
              "</table>\n",
              "</div>"
            ],
            "text/plain": [
              "    Temperature         L       R     A_M Color Spectral_Class  Type\n",
              "0          3068  0.002400  0.1700  16.120   Red              M     0\n",
              "1          3042  0.000500  0.1542  16.600   Red              M     0\n",
              "2          2600  0.000300  0.1020  18.700   Red              M     0\n",
              "3          2800  0.000200  0.1600  16.650   Red              M     0\n",
              "4          1939  0.000138  0.1030  20.060   Red              M     0\n",
              "5          2840  0.000650  0.1100  16.980   Red              M     0\n",
              "6          2637  0.000730  0.1270  17.220   Red              M     0\n",
              "7          2600  0.000400  0.0960  17.400   Red              M     0\n",
              "8          2650  0.000690  0.1100  17.450   Red              M     0\n",
              "9          2700  0.000180  0.1300  16.050   Red              M     0\n",
              "10         3600  0.002900  0.5100  10.690   Red              M     1\n",
              "11         3129  0.012200  0.3761  11.790   Red              M     1\n",
              "12         3134  0.000400  0.1960  13.210   Red              M     1\n",
              "13         3628  0.005500  0.3930  10.480   Red              M     1\n",
              "14         2650  0.000600  0.1400  11.782   Red              M     1\n",
              "15         3340  0.003800  0.2400  13.070   Red              M     1\n",
              "16         2799  0.001800  0.1600  14.790   Red              M     1\n",
              "17         3692  0.003670  0.4700  10.800   Red              M     1\n",
              "18         3192  0.003620  0.1967  13.530   Red              M     1\n",
              "19         3441  0.039000  0.3510  11.180   Red              M     1"
            ]
          },
          "execution_count": 2,
          "metadata": {},
          "output_type": "execute_result"
        }
      ],
      "source": [
        "df = pd.read_csv(\"Stars.csv\")\n",
        "df.head(20)\n"
      ]
    },
    {
      "cell_type": "raw",
      "metadata": {},
      "source": [
        "add dataset"
      ]
    },
    {
      "cell_type": "code",
      "execution_count": 3,
      "metadata": {
        "trusted": true
      },
      "outputs": [
        {
          "data": {
            "text/html": [
              "<div>\n",
              "<style scoped>\n",
              "    .dataframe tbody tr th:only-of-type {\n",
              "        vertical-align: middle;\n",
              "    }\n",
              "\n",
              "    .dataframe tbody tr th {\n",
              "        vertical-align: top;\n",
              "    }\n",
              "\n",
              "    .dataframe thead th {\n",
              "        text-align: right;\n",
              "    }\n",
              "</style>\n",
              "<table border=\"1\" class=\"dataframe\">\n",
              "  <thead>\n",
              "    <tr style=\"text-align: right;\">\n",
              "      <th></th>\n",
              "      <th>Temperature</th>\n",
              "      <th>L</th>\n",
              "      <th>R</th>\n",
              "      <th>A_M</th>\n",
              "      <th>Color</th>\n",
              "      <th>Spectral_Class</th>\n",
              "      <th>Type</th>\n",
              "    </tr>\n",
              "  </thead>\n",
              "  <tbody>\n",
              "    <tr>\n",
              "      <th>0</th>\n",
              "      <td>3068</td>\n",
              "      <td>0.002400</td>\n",
              "      <td>0.1700</td>\n",
              "      <td>16.120</td>\n",
              "      <td>8</td>\n",
              "      <td>5</td>\n",
              "      <td>0</td>\n",
              "    </tr>\n",
              "    <tr>\n",
              "      <th>1</th>\n",
              "      <td>3042</td>\n",
              "      <td>0.000500</td>\n",
              "      <td>0.1542</td>\n",
              "      <td>16.600</td>\n",
              "      <td>8</td>\n",
              "      <td>5</td>\n",
              "      <td>0</td>\n",
              "    </tr>\n",
              "    <tr>\n",
              "      <th>2</th>\n",
              "      <td>2600</td>\n",
              "      <td>0.000300</td>\n",
              "      <td>0.1020</td>\n",
              "      <td>18.700</td>\n",
              "      <td>8</td>\n",
              "      <td>5</td>\n",
              "      <td>0</td>\n",
              "    </tr>\n",
              "    <tr>\n",
              "      <th>3</th>\n",
              "      <td>2800</td>\n",
              "      <td>0.000200</td>\n",
              "      <td>0.1600</td>\n",
              "      <td>16.650</td>\n",
              "      <td>8</td>\n",
              "      <td>5</td>\n",
              "      <td>0</td>\n",
              "    </tr>\n",
              "    <tr>\n",
              "      <th>4</th>\n",
              "      <td>1939</td>\n",
              "      <td>0.000138</td>\n",
              "      <td>0.1030</td>\n",
              "      <td>20.060</td>\n",
              "      <td>8</td>\n",
              "      <td>5</td>\n",
              "      <td>0</td>\n",
              "    </tr>\n",
              "    <tr>\n",
              "      <th>5</th>\n",
              "      <td>2840</td>\n",
              "      <td>0.000650</td>\n",
              "      <td>0.1100</td>\n",
              "      <td>16.980</td>\n",
              "      <td>8</td>\n",
              "      <td>5</td>\n",
              "      <td>0</td>\n",
              "    </tr>\n",
              "    <tr>\n",
              "      <th>6</th>\n",
              "      <td>2637</td>\n",
              "      <td>0.000730</td>\n",
              "      <td>0.1270</td>\n",
              "      <td>17.220</td>\n",
              "      <td>8</td>\n",
              "      <td>5</td>\n",
              "      <td>0</td>\n",
              "    </tr>\n",
              "    <tr>\n",
              "      <th>7</th>\n",
              "      <td>2600</td>\n",
              "      <td>0.000400</td>\n",
              "      <td>0.0960</td>\n",
              "      <td>17.400</td>\n",
              "      <td>8</td>\n",
              "      <td>5</td>\n",
              "      <td>0</td>\n",
              "    </tr>\n",
              "    <tr>\n",
              "      <th>8</th>\n",
              "      <td>2650</td>\n",
              "      <td>0.000690</td>\n",
              "      <td>0.1100</td>\n",
              "      <td>17.450</td>\n",
              "      <td>8</td>\n",
              "      <td>5</td>\n",
              "      <td>0</td>\n",
              "    </tr>\n",
              "    <tr>\n",
              "      <th>9</th>\n",
              "      <td>2700</td>\n",
              "      <td>0.000180</td>\n",
              "      <td>0.1300</td>\n",
              "      <td>16.050</td>\n",
              "      <td>8</td>\n",
              "      <td>5</td>\n",
              "      <td>0</td>\n",
              "    </tr>\n",
              "    <tr>\n",
              "      <th>10</th>\n",
              "      <td>3600</td>\n",
              "      <td>0.002900</td>\n",
              "      <td>0.5100</td>\n",
              "      <td>10.690</td>\n",
              "      <td>8</td>\n",
              "      <td>5</td>\n",
              "      <td>1</td>\n",
              "    </tr>\n",
              "    <tr>\n",
              "      <th>11</th>\n",
              "      <td>3129</td>\n",
              "      <td>0.012200</td>\n",
              "      <td>0.3761</td>\n",
              "      <td>11.790</td>\n",
              "      <td>8</td>\n",
              "      <td>5</td>\n",
              "      <td>1</td>\n",
              "    </tr>\n",
              "    <tr>\n",
              "      <th>12</th>\n",
              "      <td>3134</td>\n",
              "      <td>0.000400</td>\n",
              "      <td>0.1960</td>\n",
              "      <td>13.210</td>\n",
              "      <td>8</td>\n",
              "      <td>5</td>\n",
              "      <td>1</td>\n",
              "    </tr>\n",
              "    <tr>\n",
              "      <th>13</th>\n",
              "      <td>3628</td>\n",
              "      <td>0.005500</td>\n",
              "      <td>0.3930</td>\n",
              "      <td>10.480</td>\n",
              "      <td>8</td>\n",
              "      <td>5</td>\n",
              "      <td>1</td>\n",
              "    </tr>\n",
              "    <tr>\n",
              "      <th>14</th>\n",
              "      <td>2650</td>\n",
              "      <td>0.000600</td>\n",
              "      <td>0.1400</td>\n",
              "      <td>11.782</td>\n",
              "      <td>8</td>\n",
              "      <td>5</td>\n",
              "      <td>1</td>\n",
              "    </tr>\n",
              "    <tr>\n",
              "      <th>15</th>\n",
              "      <td>3340</td>\n",
              "      <td>0.003800</td>\n",
              "      <td>0.2400</td>\n",
              "      <td>13.070</td>\n",
              "      <td>8</td>\n",
              "      <td>5</td>\n",
              "      <td>1</td>\n",
              "    </tr>\n",
              "    <tr>\n",
              "      <th>16</th>\n",
              "      <td>2799</td>\n",
              "      <td>0.001800</td>\n",
              "      <td>0.1600</td>\n",
              "      <td>14.790</td>\n",
              "      <td>8</td>\n",
              "      <td>5</td>\n",
              "      <td>1</td>\n",
              "    </tr>\n",
              "    <tr>\n",
              "      <th>17</th>\n",
              "      <td>3692</td>\n",
              "      <td>0.003670</td>\n",
              "      <td>0.4700</td>\n",
              "      <td>10.800</td>\n",
              "      <td>8</td>\n",
              "      <td>5</td>\n",
              "      <td>1</td>\n",
              "    </tr>\n",
              "    <tr>\n",
              "      <th>18</th>\n",
              "      <td>3192</td>\n",
              "      <td>0.003620</td>\n",
              "      <td>0.1967</td>\n",
              "      <td>13.530</td>\n",
              "      <td>8</td>\n",
              "      <td>5</td>\n",
              "      <td>1</td>\n",
              "    </tr>\n",
              "    <tr>\n",
              "      <th>19</th>\n",
              "      <td>3441</td>\n",
              "      <td>0.039000</td>\n",
              "      <td>0.3510</td>\n",
              "      <td>11.180</td>\n",
              "      <td>8</td>\n",
              "      <td>5</td>\n",
              "      <td>1</td>\n",
              "    </tr>\n",
              "  </tbody>\n",
              "</table>\n",
              "</div>"
            ],
            "text/plain": [
              "    Temperature         L       R     A_M  Color  Spectral_Class  Type\n",
              "0          3068  0.002400  0.1700  16.120      8               5     0\n",
              "1          3042  0.000500  0.1542  16.600      8               5     0\n",
              "2          2600  0.000300  0.1020  18.700      8               5     0\n",
              "3          2800  0.000200  0.1600  16.650      8               5     0\n",
              "4          1939  0.000138  0.1030  20.060      8               5     0\n",
              "5          2840  0.000650  0.1100  16.980      8               5     0\n",
              "6          2637  0.000730  0.1270  17.220      8               5     0\n",
              "7          2600  0.000400  0.0960  17.400      8               5     0\n",
              "8          2650  0.000690  0.1100  17.450      8               5     0\n",
              "9          2700  0.000180  0.1300  16.050      8               5     0\n",
              "10         3600  0.002900  0.5100  10.690      8               5     1\n",
              "11         3129  0.012200  0.3761  11.790      8               5     1\n",
              "12         3134  0.000400  0.1960  13.210      8               5     1\n",
              "13         3628  0.005500  0.3930  10.480      8               5     1\n",
              "14         2650  0.000600  0.1400  11.782      8               5     1\n",
              "15         3340  0.003800  0.2400  13.070      8               5     1\n",
              "16         2799  0.001800  0.1600  14.790      8               5     1\n",
              "17         3692  0.003670  0.4700  10.800      8               5     1\n",
              "18         3192  0.003620  0.1967  13.530      8               5     1\n",
              "19         3441  0.039000  0.3510  11.180      8               5     1"
            ]
          },
          "execution_count": 3,
          "metadata": {},
          "output_type": "execute_result"
        }
      ],
      "source": [
        "\n",
        "stringcols=[\"Color\",\"Spectral_Class\"]\n",
        "le2=LabelEncoder()\n",
        "y = le2.fit_transform(df[\"Type\"])\n",
        "\n",
        "\n",
        "x=df.drop(['Type'], axis=1)\n",
        "df[stringcols] = df[stringcols].apply(LabelEncoder().fit_transform)\n",
        "\n",
        "df.head(20)\n"
      ]
    },
    {
      "cell_type": "markdown",
      "metadata": {},
      "source": [
        "numeric olmayan kolonları (renk ve Spectral_Class) numeric hâle getiriyoruz."
      ]
    },
    {
      "cell_type": "markdown",
      "metadata": {},
      "source": [
        "string column to numeric (Color and spectral_class columns)"
      ]
    },
    {
      "cell_type": "code",
      "execution_count": 4,
      "metadata": {
        "trusted": true
      },
      "outputs": [
        {
          "data": {
            "image/png": "[encoded data removed]",
            "text/plain": [
              "<Figure size 640x480 with 1 Axes>"
            ]
          },
          "metadata": {},
          "output_type": "display_data"
        }
      ],
      "source": [
        "regression_model = linear_model.LinearRegression()\n",
        "\n",
        "regression_model.fit(X = pd.DataFrame(df[\"A_M\"]), \n",
        "                    y = df[\"Type\"])\n",
        "train_prediction = regression_model.predict(X = pd.DataFrame(df[\"A_M\"]))\n",
        "df.plot(kind=\"scatter\", x=\"A_M\", y=\"Type\")\n",
        "plt.plot(df[\"A_M\"], train_prediction, color=\"red\")\n",
        "plt.show()\n"
      ]
    },
    {
      "cell_type": "markdown",
      "metadata": {},
      "source": [
        "Hangi sütunların yıldız tipiyle ilişkisi olduğunu anlamak için linear regression oluşturuyoruz. \n",
        "Absolute Magnitude'in yıldızın tipiyle doğrusal alakası var."
      ]
    },
    {
      "cell_type": "code",
      "execution_count": 5,
      "metadata": {
        "trusted": true
      },
      "outputs": [
        {
          "data": {
            "text/html": [
              "<div>\n",
              "<style scoped>\n",
              "    .dataframe tbody tr th:only-of-type {\n",
              "        vertical-align: middle;\n",
              "    }\n",
              "\n",
              "    .dataframe tbody tr th {\n",
              "        vertical-align: top;\n",
              "    }\n",
              "\n",
              "    .dataframe thead th {\n",
              "        text-align: right;\n",
              "    }\n",
              "</style>\n",
              "<table border=\"1\" class=\"dataframe\">\n",
              "  <thead>\n",
              "    <tr style=\"text-align: right;\">\n",
              "      <th></th>\n",
              "      <th>Temperature</th>\n",
              "      <th>L</th>\n",
              "      <th>R</th>\n",
              "      <th>A_M</th>\n",
              "      <th>Color</th>\n",
              "      <th>Spectral_Class</th>\n",
              "      <th>Type</th>\n",
              "    </tr>\n",
              "  </thead>\n",
              "  <tbody>\n",
              "    <tr>\n",
              "      <th>0</th>\n",
              "      <td>3068</td>\n",
              "      <td>0.002400</td>\n",
              "      <td>0.1700</td>\n",
              "      <td>16.12</td>\n",
              "      <td>8</td>\n",
              "      <td>5</td>\n",
              "      <td>0</td>\n",
              "    </tr>\n",
              "    <tr>\n",
              "      <th>1</th>\n",
              "      <td>3042</td>\n",
              "      <td>0.000500</td>\n",
              "      <td>0.1542</td>\n",
              "      <td>16.60</td>\n",
              "      <td>8</td>\n",
              "      <td>5</td>\n",
              "      <td>0</td>\n",
              "    </tr>\n",
              "    <tr>\n",
              "      <th>2</th>\n",
              "      <td>2600</td>\n",
              "      <td>0.000300</td>\n",
              "      <td>0.1020</td>\n",
              "      <td>18.70</td>\n",
              "      <td>8</td>\n",
              "      <td>5</td>\n",
              "      <td>0</td>\n",
              "    </tr>\n",
              "    <tr>\n",
              "      <th>3</th>\n",
              "      <td>2800</td>\n",
              "      <td>0.000200</td>\n",
              "      <td>0.1600</td>\n",
              "      <td>16.65</td>\n",
              "      <td>8</td>\n",
              "      <td>5</td>\n",
              "      <td>0</td>\n",
              "    </tr>\n",
              "    <tr>\n",
              "      <th>4</th>\n",
              "      <td>1939</td>\n",
              "      <td>0.000138</td>\n",
              "      <td>0.1030</td>\n",
              "      <td>20.06</td>\n",
              "      <td>8</td>\n",
              "      <td>5</td>\n",
              "      <td>0</td>\n",
              "    </tr>\n",
              "  </tbody>\n",
              "</table>\n",
              "</div>"
            ],
            "text/plain": [
              "   Temperature         L       R    A_M  Color  Spectral_Class  Type\n",
              "0         3068  0.002400  0.1700  16.12      8               5     0\n",
              "1         3042  0.000500  0.1542  16.60      8               5     0\n",
              "2         2600  0.000300  0.1020  18.70      8               5     0\n",
              "3         2800  0.000200  0.1600  16.65      8               5     0\n",
              "4         1939  0.000138  0.1030  20.06      8               5     0"
            ]
          },
          "execution_count": 5,
          "metadata": {},
          "output_type": "execute_result"
        }
      ],
      "source": [
        "df.head()"
      ]
    },
    {
      "cell_type": "code",
      "execution_count": 6,
      "metadata": {
        "trusted": true
      },
      "outputs": [
        {
          "data": {
            "image/png": "[encoded data removed]",
            "text/plain": [
              "<Figure size 640x480 with 1 Axes>"
            ]
          },
          "metadata": {},
          "output_type": "display_data"
        }
      ],
      "source": [
        "regression_model.fit(X = pd.DataFrame(df[\"R\"]), \n",
        "                    y = df[\"Type\"])\n",
        "train_prediction = regression_model.predict(X = pd.DataFrame(df[\"R\"]))\n",
        "df.plot(kind=\"scatter\", x=\"R\", y=\"Type\")\n",
        "plt.plot(df[\"R\"], train_prediction, color=\"green\")\n",
        "plt.show()\n"
      ]
    },
    {
      "cell_type": "markdown",
      "metadata": {},
      "source": [
        "3-4-5 tipindeki yıldızlarda radiusun yıldız tipini etkilediğini görüyoruz"
      ]
    },
    {
      "cell_type": "code",
      "execution_count": 7,
      "metadata": {
        "trusted": true
      },
      "outputs": [
        {
          "data": {
            "image/png": "[encoded data removed]",
            "text/plain": [
              "<Figure size 640x480 with 1 Axes>"
            ]
          },
          "metadata": {},
          "output_type": "display_data"
        }
      ],
      "source": [
        "regression_model.fit(X = pd.DataFrame(df[\"Color\"]), \n",
        "                    y = df[\"Type\"])\n",
        "train_prediction = regression_model.predict(X = pd.DataFrame(df[\"Color\"]))\n",
        "df.plot(kind=\"scatter\", x=\"Color\", y=\"Type\")\n",
        "\n",
        "plt.show()\n"
      ]
    },
    {
      "cell_type": "markdown",
      "metadata": {},
      "source": [
        "yıldızını etkileyen değerlerde yıldızın renginin etkili olmadığını görüyoruz"
      ]
    },
    {
      "cell_type": "code",
      "execution_count": 8,
      "metadata": {
        "trusted": true
      },
      "outputs": [
        {
          "data": {
            "image/png": "[encoded data removed]",
            "text/plain": [
              "<Figure size 640x480 with 1 Axes>"
            ]
          },
          "metadata": {},
          "output_type": "display_data"
        }
      ],
      "source": [
        "regression_model.fit(X = pd.DataFrame(df[\"Temperature\"]), \n",
        "                    y = df[\"Type\"])\n",
        "train_prediction = regression_model.predict(X = pd.DataFrame(df[\"Temperature\"]))\n",
        "df.plot(kind=\"scatter\", x=\"Temperature\", y=\"Type\")\n",
        "\n",
        "plt.show()\n"
      ]
    },
    {
      "cell_type": "markdown",
      "metadata": {},
      "source": [
        "sıcaklığın doğrusal olmasa da etkisinin olduğunu görüyoruz"
      ]
    },
    {
      "cell_type": "code",
      "execution_count": 9,
      "metadata": {
        "trusted": true
      },
      "outputs": [
        {
          "data": {
            "image/png": "[encoded data removed]",
            "text/plain": [
              "<Figure size 640x480 with 1 Axes>"
            ]
          },
          "metadata": {},
          "output_type": "display_data"
        }
      ],
      "source": [
        "regression_model.fit(X = pd.DataFrame(df[\"Spectral_Class\"]), \n",
        "                    y = df[\"Type\"])\n",
        "train_prediction = regression_model.predict(X = pd.DataFrame(df[\"Spectral_Class\"]))\n",
        "df.plot(kind=\"scatter\", x=\"Spectral_Class\", y=\"Type\")\n",
        "plt.plot(df[\"Spectral_Class\"], train_prediction, color=\"red\")\n",
        "plt.show()"
      ]
    },
    {
      "cell_type": "markdown",
      "metadata": {},
      "source": [
        "spektral sınıfın yıldız tipinde etkisi olmadığı görünmüyor"
      ]
    },
    {
      "cell_type": "code",
      "execution_count": 10,
      "metadata": {
        "trusted": true
      },
      "outputs": [
        {
          "data": {
            "image/png": "[encoded data removed]",
            "text/plain": [
              "<Figure size 640x480 with 1 Axes>"
            ]
          },
          "metadata": {},
          "output_type": "display_data"
        }
      ],
      "source": [
        "regression_model.fit(X = pd.DataFrame(df[\"L\"]), \n",
        "                    y = df[\"Type\"])\n",
        "train_prediction = regression_model.predict(X = pd.DataFrame(df[\"L\"]))\n",
        "df.plot(kind=\"scatter\", x=\"L\", y=\"Type\")\n",
        "\n",
        "plt.show()"
      ]
    },
    {
      "cell_type": "markdown",
      "metadata": {},
      "source": [
        "bağıl parlaklığın yıldız tipinde etkisi olduğunu görüyoruz"
      ]
    },
    {
      "cell_type": "code",
      "execution_count": 160,
      "metadata": {
        "trusted": true
      },
      "outputs": [],
      "source": [
        "x_train,x_test,y_train,y_test = train_test_split(x, y, test_size=0.3, random_state=0)"
      ]
    },
    {
      "cell_type": "markdown",
      "metadata": {},
      "source": [
        "dataseti %70ini koda öğretmek için %30'unu kodu test etmek için 4 parçaya ayırıyoruz. \n",
        "\n",
        "x_test=yıldızın spesifik bilgilerinin olduğu kodun öğreneceği kısım\n",
        "\n",
        "y_test= x_test listesindeki yıldızların tipleri \n",
        "\n",
        "x_train=kodu test etmek için ayırdığımız yıldız bilgileri\n",
        "\n",
        "y_test=kodu test etmek için ayırdığımız x_train listesinin yıldız tipi (yani predict'lemeye çalıştığımız kısım)"
      ]
    },
    {
      "cell_type": "code",
      "execution_count": 161,
      "metadata": {
        "trusted": true
      },
      "outputs": [],
      "source": [
        "tree=DecisionTreeClassifier(criterion='entropy')\n",
        "classifier=tree.fit(x_train,y_train)\n"
      ]
    },
    {
      "cell_type": "markdown",
      "metadata": {},
      "source": [
        "kod'a datasetimizin %70'ini öğretiyoruz"
      ]
    },
    {
      "cell_type": "code",
      "execution_count": 162,
      "metadata": {
        "trusted": true
      },
      "outputs": [
        {
          "data": {
            "text/plain": [
              "0.9861111111111112"
            ]
          },
          "execution_count": 162,
          "metadata": {},
          "output_type": "execute_result"
        }
      ],
      "source": [
        "classifier.score(x_test,y_test)"
      ]
    },
    {
      "cell_type": "markdown",
      "metadata": {},
      "source": [
        "My code's accuracy rate is 98%"
      ]
    },
    {
      "cell_type": "code",
      "execution_count": 163,
      "metadata": {
        "trusted": true
      },
      "outputs": [
        {
          "name": "stdout",
          "output_type": "stream",
          "text": [
            "[4, 1, 3, 1, 4, 4, 3, 4, 3, 1, 1, 2, 2, 3, 5, 1, 0, 5, 4, 0, 4, 5, 2, 0, 0, 2, 1, 3, 1, 4, 5, 4, 2, 0, 2, 5, 2, 5, 0, 1, 3, 4, 3, 1, 4, 1, 4, 0, 5, 5, 0, 3, 5, 1, 3, 3, 5, 3, 5, 4, 1, 3, 3, 5, 2, 3, 1, 3, 0, 1, 0, 4]"
          ]
        }
      ],
      "source": [
        "print(list(classifier.predict(x_test)),end='')"
      ]
    },
    {
      "cell_type": "markdown",
      "metadata": {},
      "source": [
        "kodun x_test listesindeki tahmin ettiği yıldız tiplerinin listesi"
      ]
    },
    {
      "cell_type": "code",
      "execution_count": 164,
      "metadata": {
        "trusted": true
      },
      "outputs": [
        {
          "name": "stdout",
          "output_type": "stream",
          "text": [
            "[4, 1, 3, 1, 4, 4, 3, 4, 3, 1, 1, 2, 2, 3, 5, 1, 0, 5, 4, 0, 4, 5, 2, 0, 0, 2, 1, 3, 1, 4, 5, 4, 2, 0, 2, 5, 2, 5, 0, 3, 3, 4, 3, 1, 4, 1, 4, 0, 5, 5, 0, 3, 5, 1, 3, 3, 5, 3, 5, 4, 1, 3, 3, 5, 2, 3, 1, 3, 0, 1, 0, 4]\n"
          ]
        }
      ],
      "source": [
        "print(list(y_test))"
      ]
    },
    {
      "cell_type": "markdown",
      "metadata": {},
      "source": [
        "The actual result of the star types of the data in the x_test list. Almost the same as what the code predicts"
      ]
    },
    {
      "cell_type": "code",
      "execution_count": 165,
      "metadata": {
        "trusted": true
      },
      "outputs": [
        {
          "data": {
            "text/plain": [
              "[Text(0.5, 0.875, 'x[1] <= 0.104\\nentropy = 2.579\\nsamples = 168\\nvalue = [30, 27, 32, 24, 27, 28]'),\n",
              " Text(0.3, 0.625, 'x[0] <= 5396.0\\nentropy = 1.581\\nsamples = 89\\nvalue = [30, 27, 32, 0, 0, 0]'),\n",
              " Text(0.2, 0.375, 'x[3] <= 15.495\\nentropy = 0.998\\nsamples = 57\\nvalue = [30, 27, 0, 0, 0, 0]'),\n",
              " Text(0.1, 0.125, 'entropy = 0.0\\nsamples = 27\\nvalue = [0, 27, 0, 0, 0, 0]'),\n",
              " Text(0.3, 0.125, 'entropy = 0.0\\nsamples = 30\\nvalue = [30, 0, 0, 0, 0, 0]'),\n",
              " Text(0.4, 0.375, 'entropy = 0.0\\nsamples = 32\\nvalue = [0, 0, 32, 0, 0, 0]'),\n",
              " Text(0.7, 0.625, 'x[3] <= -7.54\\nentropy = 1.582\\nsamples = 79\\nvalue = [0, 0, 0, 24, 27, 28]'),\n",
              " Text(0.6, 0.375, 'entropy = 0.0\\nsamples = 28\\nvalue = [0, 0, 0, 0, 0, 28]'),\n",
              " Text(0.8, 0.375, 'x[3] <= -4.97\\nentropy = 0.998\\nsamples = 51\\nvalue = [0, 0, 0, 24, 27, 0]'),\n",
              " Text(0.7, 0.125, 'entropy = 0.0\\nsamples = 27\\nvalue = [0, 0, 0, 0, 27, 0]'),\n",
              " Text(0.9, 0.125, 'entropy = 0.0\\nsamples = 24\\nvalue = [0, 0, 0, 24, 0, 0]')]"
            ]
          },
          "execution_count": 165,
          "metadata": {},
          "output_type": "execute_result"
        },
        {
          "data": {
            "image/png": "[encoded data removed]",
            "text/plain": [
              "<Figure size 1200x800 with 1 Axes>"
            ]
          },
          "metadata": {},
          "output_type": "display_data"
        }
      ],
      "source": [
        "plt.figure(figsize=(12,8))\n",
        "\n",
        "from sklearn import tree\n",
        "\n",
        "tree.plot_tree(classifier.fit(x_train, y_train)) "
      ]
    },
    {
      "cell_type": "code",
      "execution_count": 166,
      "metadata": {
        "trusted": true
      },
      "outputs": [
        {
          "name": "stdout",
          "output_type": "stream",
          "text": [
            "[[10  0  0  0  0  0]\n",
            " [ 0 13  0  0  0  0]\n",
            " [ 0  0  8  0  0  0]\n",
            " [ 0  1  0 15  0  0]\n",
            " [ 0  0  0  0 13  0]\n",
            " [ 0  0  0  0  0 12]]\n"
          ]
        }
      ],
      "source": [
        "y_pred_en = classifier.predict(x_test)\n",
        "print(confusion_matrix(y_test, y_pred_en))"
      ]
    },
    {
      "cell_type": "code",
      "execution_count": 149,
      "metadata": {
        "trusted": true
      },
      "outputs": [
        {
          "name": "stdout",
          "output_type": "stream",
          "text": [
            "              precision    recall  f1-score   support\n",
            "\n",
            "           0       1.00      1.00      1.00        10\n",
            "           1       1.00      1.00      1.00        13\n",
            "           2       1.00      1.00      1.00         8\n",
            "           3       1.00      1.00      1.00        16\n",
            "           4       1.00      1.00      1.00        13\n",
            "           5       1.00      1.00      1.00        12\n",
            "\n",
            "    accuracy                           1.00        72\n",
            "   macro avg       1.00      1.00      1.00        72\n",
            "weighted avg       1.00      1.00      1.00        72\n",
            "\n"
          ]
        }
      ],
      "source": [
        "print(classification_report(y_test, y_pred_en))"
      ]
    },
    {
      "cell_type": "code",
      "execution_count": null,
      "metadata": {
        "trusted": true
      },
      "outputs": [],
      "source": []
    },
    {
      "cell_type": "code",
      "execution_count": null,
      "metadata": {
        "trusted": true
      },
      "outputs": [],
      "source": []
    }
  ],
  "metadata": {
    "kernelspec": {
      "display_name": "Python 3",
      "language": "python",
      "name": "python3"
    },
    "language_info": {
      "codemirror_mode": {
        "name": "ipython",
        "version": 3
      },
      "file_extension": ".py",
      "mimetype": "text/x-python",
      "name": "python",
      "nbconvert_exporter": "python",
      "pygments_lexer": "ipython3",
      "version": "3.12.2"
    }
  },
  "nbformat": 4,
  "nbformat_minor": 4
}
